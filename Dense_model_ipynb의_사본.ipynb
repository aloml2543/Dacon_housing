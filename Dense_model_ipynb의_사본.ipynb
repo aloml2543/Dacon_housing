{
  "nbformat": 4,
  "nbformat_minor": 0,
  "metadata": {
    "colab": {
      "name": "Dense_model.ipynb의 사본",
      "provenance": [],
      "include_colab_link": true
    },
    "kernelspec": {
      "name": "python3",
      "display_name": "Python 3"
    },
    "language_info": {
      "name": "python"
    }
  },
  "cells": [
    {
      "cell_type": "markdown",
      "metadata": {
        "id": "view-in-github",
        "colab_type": "text"
      },
      "source": [
        "<a href=\"https://colab.research.google.com/github/aloml2543/Dacon_housing/blob/ksj/Dense_model_ipynb%EC%9D%98_%EC%82%AC%EB%B3%B8.ipynb\" target=\"_parent\"><img src=\"https://colab.research.google.com/assets/colab-badge.svg\" alt=\"Open In Colab\"/></a>"
      ]
    },
    {
      "cell_type": "code",
      "source": [
        "from google.colab import drive\n",
        "drive.mount('/content/drive')"
      ],
      "metadata": {
        "colab": {
          "base_uri": "https://localhost:8080/"
        },
        "id": "GpUB1uTkm3Gx",
        "outputId": "e9990601-6043-4cfe-f9a2-8527a6ab9e38"
      },
      "execution_count": 2,
      "outputs": [
        {
          "output_type": "stream",
          "name": "stdout",
          "text": [
            "Mounted at /content/drive\n"
          ]
        }
      ]
    },
    {
      "cell_type": "code",
      "source": [
        "!unzip -nq /content/drive/MyDrive/housing.zip -d /content/"
      ],
      "metadata": {
        "id": "1zerWH93n0gZ"
      },
      "execution_count": 3,
      "outputs": []
    },
    {
      "cell_type": "code",
      "execution_count": 7,
      "metadata": {
        "id": "YXEJr4MzWDfd",
        "colab": {
          "base_uri": "https://localhost:8080/"
        },
        "outputId": "ad897c6e-6028-40c7-f9ce-8782930414c3"
      },
      "outputs": [
        {
          "output_type": "stream",
          "name": "stdout",
          "text": [
            "(1350, 10)\n",
            "(1350, 3)\n"
          ]
        }
      ],
      "source": [
        "import pandas as pd\n",
        "import tensorflow as tf\n",
        "from tensorflow.keras.models import Model\n",
        "from tensorflow.keras.layers import Dense\n",
        "\n",
        "train = pd.read_csv('/content/train.csv')\n",
        "train = train.replace(['Ex', 'Gd', 'TA', 'Fa', 'Po'], [5, 4, 3, 2, 1])\n",
        "train_imp = train[['Overall Qual', 'Gr Liv Area', 'Total Bsmt SF', '1st Flr SF', 'Garage Cars', 'Garage Area', 'Full Bath', 'Exter Qual', 'Bsmt Qual', 'Kitchen Qual']]\n",
        "train_limp = train[['Year Built', 'Year Remod/Add', 'Garage Yr Blt']]\n",
        "train_target = train['target']\n",
        "print(train_imp.shape)\n",
        "print(train_limp.shape)"
      ]
    },
    {
      "cell_type": "code",
      "source": [
        "class TestModel(Model):\n",
        "  def __init__(self):\n",
        "    super(TestModel, self).__init__()\n",
        "\n",
        "    self.dense1_imp = Dense(units = 10, activation = 'relu')\n",
        "    self.dense2_imp = Dense(units = 7, activation = 'relu')\n",
        "    self.dense3_imp = Dense(units = 4, activation = 'relu')\n",
        "    self.dense4_imp = Dense(units = 1, activation = 'relu')\n",
        "    self.dense1_limp = Dense(units = 3, activation = 'relu')\n",
        "    self.dense2_limp = Dense(units = 2, activation = 'relu')\n",
        "    self.dense3_limp = Dense(units = 1, activation = 'softmax')\n",
        "    self.Output = Dense(units = 1, activation = 'relu')\n",
        "\n",
        "  def call(self, imp, limp):\n",
        "    ret1 = self.dense1_imp(imp)\n",
        "    ret1 = self.dense2_imp(ret1)\n",
        "    ret1 = self.dense3_imp(ret1)\n",
        "    ret1 = self.dense4_imp(ret1)\n",
        "    ret2 = self.dense1_limp(limp)\n",
        "    ret2 = self.dense2_limp(ret2)\n",
        "    ret2 = self.dense3_limp(ret2)\n",
        "    print(ret1.shape, ret2.shape)\n",
        "    return"
      ],
      "metadata": {
        "id": "XTNpNtK_rBdG"
      },
      "execution_count": 13,
      "outputs": []
    },
    {
      "cell_type": "code",
      "source": [
        "model = TestModel()\n",
        "ret = model(train_imp, train_limp)\n",
        "model.compile(loss = 'NMAE')"
      ],
      "metadata": {
        "colab": {
          "base_uri": "https://localhost:8080/",
          "height": 905
        },
        "id": "3GdkHpXTu62j",
        "outputId": "38cbe007-bc23-4ea6-d8ad-0abfad75cca5"
      },
      "execution_count": 14,
      "outputs": [
        {
          "output_type": "error",
          "ename": "AttributeError",
          "evalue": "ignored",
          "traceback": [
            "\u001b[0;31m---------------------------------------------------------------------------\u001b[0m",
            "\u001b[0;31mAttributeError\u001b[0m                            Traceback (most recent call last)",
            "\u001b[0;32m<ipython-input-14-bde7776c1af6>\u001b[0m in \u001b[0;36m<module>\u001b[0;34m()\u001b[0m\n\u001b[1;32m      1\u001b[0m \u001b[0mmodel\u001b[0m \u001b[0;34m=\u001b[0m \u001b[0mTestModel\u001b[0m\u001b[0;34m(\u001b[0m\u001b[0;34m)\u001b[0m\u001b[0;34m\u001b[0m\u001b[0;34m\u001b[0m\u001b[0m\n\u001b[0;32m----> 2\u001b[0;31m \u001b[0mret\u001b[0m \u001b[0;34m=\u001b[0m \u001b[0mmodel\u001b[0m\u001b[0;34m(\u001b[0m\u001b[0mtrain_imp\u001b[0m\u001b[0;34m,\u001b[0m \u001b[0mtrain_limp\u001b[0m\u001b[0;34m)\u001b[0m\u001b[0;34m\u001b[0m\u001b[0;34m\u001b[0m\u001b[0m\n\u001b[0m\u001b[1;32m      3\u001b[0m \u001b[0mmodel\u001b[0m\u001b[0;34m.\u001b[0m\u001b[0mcompile\u001b[0m\u001b[0;34m(\u001b[0m\u001b[0mloss\u001b[0m \u001b[0;34m=\u001b[0m \u001b[0;34m'NMAE'\u001b[0m\u001b[0;34m)\u001b[0m\u001b[0;34m\u001b[0m\u001b[0;34m\u001b[0m\u001b[0m\n",
            "\u001b[0;32m/usr/local/lib/python3.7/dist-packages/keras/utils/traceback_utils.py\u001b[0m in \u001b[0;36merror_handler\u001b[0;34m(*args, **kwargs)\u001b[0m\n\u001b[1;32m     65\u001b[0m     \u001b[0;32mexcept\u001b[0m \u001b[0mException\u001b[0m \u001b[0;32mas\u001b[0m \u001b[0me\u001b[0m\u001b[0;34m:\u001b[0m  \u001b[0;31m# pylint: disable=broad-except\u001b[0m\u001b[0;34m\u001b[0m\u001b[0;34m\u001b[0m\u001b[0m\n\u001b[1;32m     66\u001b[0m       \u001b[0mfiltered_tb\u001b[0m \u001b[0;34m=\u001b[0m \u001b[0m_process_traceback_frames\u001b[0m\u001b[0;34m(\u001b[0m\u001b[0me\u001b[0m\u001b[0;34m.\u001b[0m\u001b[0m__traceback__\u001b[0m\u001b[0;34m)\u001b[0m\u001b[0;34m\u001b[0m\u001b[0;34m\u001b[0m\u001b[0m\n\u001b[0;32m---> 67\u001b[0;31m       \u001b[0;32mraise\u001b[0m \u001b[0me\u001b[0m\u001b[0;34m.\u001b[0m\u001b[0mwith_traceback\u001b[0m\u001b[0;34m(\u001b[0m\u001b[0mfiltered_tb\u001b[0m\u001b[0;34m)\u001b[0m \u001b[0;32mfrom\u001b[0m \u001b[0;32mNone\u001b[0m\u001b[0;34m\u001b[0m\u001b[0;34m\u001b[0m\u001b[0m\n\u001b[0m\u001b[1;32m     68\u001b[0m     \u001b[0;32mfinally\u001b[0m\u001b[0;34m:\u001b[0m\u001b[0;34m\u001b[0m\u001b[0;34m\u001b[0m\u001b[0m\n\u001b[1;32m     69\u001b[0m       \u001b[0;32mdel\u001b[0m \u001b[0mfiltered_tb\u001b[0m\u001b[0;34m\u001b[0m\u001b[0;34m\u001b[0m\u001b[0m\n",
            "\u001b[0;32m<ipython-input-13-a956f5a07d5c>\u001b[0m in \u001b[0;36mcall\u001b[0;34m(self, imp, limp)\u001b[0m\n\u001b[1;32m     13\u001b[0m \u001b[0;34m\u001b[0m\u001b[0m\n\u001b[1;32m     14\u001b[0m   \u001b[0;32mdef\u001b[0m \u001b[0mcall\u001b[0m\u001b[0;34m(\u001b[0m\u001b[0mself\u001b[0m\u001b[0;34m,\u001b[0m \u001b[0mimp\u001b[0m\u001b[0;34m,\u001b[0m \u001b[0mlimp\u001b[0m\u001b[0;34m)\u001b[0m\u001b[0;34m:\u001b[0m\u001b[0;34m\u001b[0m\u001b[0;34m\u001b[0m\u001b[0m\n\u001b[0;32m---> 15\u001b[0;31m     \u001b[0mret1\u001b[0m \u001b[0;34m=\u001b[0m \u001b[0mself\u001b[0m\u001b[0;34m.\u001b[0m\u001b[0mdense1_imp\u001b[0m\u001b[0;34m(\u001b[0m\u001b[0mimp\u001b[0m\u001b[0;34m)\u001b[0m\u001b[0;34m\u001b[0m\u001b[0;34m\u001b[0m\u001b[0m\n\u001b[0m\u001b[1;32m     16\u001b[0m     \u001b[0mret1\u001b[0m \u001b[0;34m=\u001b[0m \u001b[0mself\u001b[0m\u001b[0;34m.\u001b[0m\u001b[0mdense2_imp\u001b[0m\u001b[0;34m(\u001b[0m\u001b[0mret1\u001b[0m\u001b[0;34m)\u001b[0m\u001b[0;34m\u001b[0m\u001b[0;34m\u001b[0m\u001b[0m\n\u001b[1;32m     17\u001b[0m     \u001b[0mret1\u001b[0m \u001b[0;34m=\u001b[0m \u001b[0mself\u001b[0m\u001b[0;34m.\u001b[0m\u001b[0mdense3_imp\u001b[0m\u001b[0;34m(\u001b[0m\u001b[0mret1\u001b[0m\u001b[0;34m)\u001b[0m\u001b[0;34m\u001b[0m\u001b[0;34m\u001b[0m\u001b[0m\n",
            "\u001b[0;31mAttributeError\u001b[0m: Exception encountered when calling layer \"test_model_1\" (type TestModel).\n\n'tuple' object has no attribute 'rank'\n\nCall arguments received:\n  • imp=      Overall Qual  Gr Liv Area  ...  Bsmt Qual  Kitchen Qual\n0               10         2392  ...          5             5\n1                7         1352  ...          5             4\n2                5          900  ...          3             3\n3                5         1174  ...          3             4\n4                7         1958  ...          4             4\n...            ...          ...  ...        ...           ...\n1345             6         1756  ...          5             3\n1346             9         2748  ...          5             5\n1347             5         1214  ...          3             3\n1348             5          894  ...          4             3\n1349             5          907  ...          4             3\n\n[1350 rows x 10 columns]\n  • limp=      Year Built  Year Remod/Add  Garage Yr Blt\n0           2003            2003           2003\n1           2006            2007           2006\n2           1967            1967           1967\n3           1900            2006           2000\n4           2005            2005           2005\n...          ...             ...            ...\n1345        1996            1997           1996\n1346        2006            2006           2006\n1347        1967            1967           1967\n1348        1974            1974           1974\n1349        1978            1978           1978\n\n[1350 rows x 3 columns]"
          ]
        }
      ]
    },
    {
      "cell_type": "markdown",
      "source": [
        "# 새 섹션"
      ],
      "metadata": {
        "id": "VhNhZql7PiNn"
      }
    }
  ]
}